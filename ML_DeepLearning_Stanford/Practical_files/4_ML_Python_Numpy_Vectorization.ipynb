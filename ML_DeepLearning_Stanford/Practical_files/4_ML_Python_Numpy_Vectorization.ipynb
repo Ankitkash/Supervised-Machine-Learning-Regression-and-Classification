{
 "cells": [
  {
   "cell_type": "markdown",
   "id": "1ba3fafc-53d0-4e2a-ad71-68b055b4d36f",
   "metadata": {},
   "source": [
    "# Lab: Python, NumPy and Vectorization\r\n",
    "A brief introduction to some of the scientific computing used in this course. In particular the NumPy scientific computing package and its use with python.\r\n",
    "\r\n",
    "# Outline\r\n",
    "- [&nbsp;&nbsp;1.1 Goals](#toc_40015_1.1)\r\n",
    "- [&nbsp;&nbsp;1.2 Useful References](#toc_40015_1.2)\r\n",
    "- [2 Python and NumPy <a name='Python and NumPy'></a>](#toc_40015_2)\r\n",
    "- [3 Vectors](#toc_40015_3)\r\n",
    "- [&nbsp;&nbsp;3.1 Abstract](#toc_40015_3.1)\r\n",
    "- [&nbsp;&nbsp;3.2 NumPy Arrays](#toc_40015_3.2)\r\n",
    "- [&nbsp;&nbsp;3.3 Vector Creation](#toc_40015_3.3)\r\n",
    "- [&nbsp;&nbsp;3.4 Operations on Vectors](#toc_40015_3.4)\r\n",
    "- [4 Matrices](#toc_40015_4)\r\n",
    "- [&nbsp;&nbsp;4.1 Abstract](#toc_40015_4.1)\r\n",
    "- [&nbsp;&nbsp;4.2 NumPy Arrays](#toc_40015_4.2)\r\n",
    "- [&nbsp;&nbsp;4.3 Matrix Creation](#toc_40015_4.3)\r\n",
    "- [&nbsp;&nbsp;4.4 Operations on Matrices](#toc_40015_4.4)\r\n"
   ]
  },
  {
   "cell_type": "code",
   "execution_count": 1,
   "id": "05757882-3faf-43c7-85e3-6381c373b6a7",
   "metadata": {},
   "outputs": [],
   "source": [
    "import numpy as np\n",
    "import time"
   ]
  },
  {
   "cell_type": "markdown",
   "id": "d495595b-1343-4bf5-bcd7-039e932fed92",
   "metadata": {},
   "source": [
    "<a name=\"toc_40015_1.1\"></a>\r\n",
    "## 1.1 Goals\r\n",
    "In this lab, you will:\r\n",
    "- Review the features of NumPy and Python that are used in Course 1"
   ]
  },
  {
   "cell_type": "markdown",
   "id": "d2489540-b4f1-4be3-8727-d3af3e961ddd",
   "metadata": {},
   "source": [
    "<a name=\"toc_40015_1.2\"></a>\r\n",
    "## 1.2 Useful References\r\n",
    "- NumPy Documentation including a basic introduction: [NumPy.org](https://NumPy.org/doc/stable/)\r\n",
    "- A challenging feature topic: [NumPy Broadcasting](https://NumPy.org/doc/stable/user/basics.broadcasting.html)"
   ]
  },
  {
   "cell_type": "markdown",
   "id": "34713e3e-ccd7-444e-902d-365b5a1365fe",
   "metadata": {},
   "source": [
    "<a name=\"toc_40015_2\"></a>\r\n",
    "# 2 Python and NumPy <a name='Python and NumPy'></a>\r\n",
    "Python is the programming language we will be using in this course. It has a set of numeric data types and arithmetic operations. NumPy is a library that extends the base capabilities of python to add a richer data set including more numeric types, vectors, matrices, and many matrix functions. NumPy and python  work together fairly seamlessly. Python arithmetic operators work on NumPy data types and many NumPy functions will accept python data types.\r\n"
   ]
  },
  {
   "cell_type": "markdown",
   "id": "0fdaa81e-dd56-43b8-b8b5-afa31d0072d5",
   "metadata": {},
   "source": [
    "# 3 Vectors\n",
    "\n",
    "## 3.1 Abstract\n"
   ]
  },
  {
   "cell_type": "markdown",
   "id": "4c1e39e8-4d7e-4f58-8393-e6fb93a2f980",
   "metadata": {},
   "source": [
    "\n",
    "\n",
    "![](./images/C1_W2_Lab04_Vectors.PNG) "
   ]
  },
  {
   "cell_type": "markdown",
   "id": "d3371c72-0a67-4a14-8265-e8e2008def00",
   "metadata": {},
   "source": [
    "Vectors, as you will use them in this course, are ordered arrays of numbers. In notation, vectors are denoted with lowercase bold letters such as $\\mathbf{x}$.  The elements of a vector are all the same type. A vector does not, for example, contain both characters and numbers. The number of elements in the array is often referred to as the *dimension* though mathematicians may prefer *rank*. The vector shown has a dimension of $n$. The elements of a vector can be referenced with an index. In math settings, indexes typically run from 1 to n. In computer science and these labs, indexing will typically run from 0 to n-1.  In notation, elements of a vector, when referenced individually will indicate the index in a subscript, for example, the $0^{th}$ element, of the vector $\\mathbf{x}$ is $x_0$. Note, the x is not bold in this case."
   ]
  },
  {
   "cell_type": "markdown",
   "id": "e07e8527-b35f-4c53-a840-edc7dcefb9bf",
   "metadata": {},
   "source": [
    "<a name=\"toc_40015_3.2\"></a>\r\n",
    "## 3.2 NumPy Arrays\r\n",
    "\r\n",
    "NumPy's basic data structure is an indexable, n-dimensional *array* containing elements of the same type (`dtype`). Right away, you may notice we have overloaded the term 'dimension'. Above, it was the number of elements in the vector, here, dimension refers to the number of indexes of an array. A one-dimensional or 1-D array has one index. In Course 1, we will represent vectors as NumPy 1-D arrays. \r\n",
    "\r\n",
    " - 1-D array, shape (n,): n elements indexed [0] through [n-1]"
   ]
  },
  {
   "cell_type": "markdown",
   "id": "ca75a111-018d-4102-9eaa-74c16926bce0",
   "metadata": {},
   "source": [
    "<a name=\"toc_40015_3.3\"></a>\r\n",
    "## 3.3 Vector Creation\r\n"
   ]
  },
  {
   "cell_type": "markdown",
   "id": "3eea6db6-ae84-4a68-9231-b70a1271ee83",
   "metadata": {},
   "source": [
    "Data creation routines in NumPy will generally have a first parameter which is the shape of the object. This can either be a single value for a 1-D result or a tuple (n,m,...) specifying the shape of the result. Below are examples of creating vectors using these routines."
   ]
  },
  {
   "cell_type": "code",
   "execution_count": 2,
   "id": "f4bbe213-02b3-4c96-9b9d-5fcc0b473ca1",
   "metadata": {},
   "outputs": [
    {
     "name": "stdout",
     "output_type": "stream",
     "text": [
      "np.zeros(4)  : a = [0. 0. 0. 0.], a shape = (4,), a data type = float64\n",
      "np.zeros(4,)  : a = [0. 0. 0. 0.], a shape = (4,), a data type = float64\n",
      "np.random.random_sample(4)  : a = [0.14881375 0.180916   0.58249903 0.21653062], a shape = (4,), a data type = float64\n"
     ]
    }
   ],
   "source": [
    "# Numpy routines which allocate memory and fill arrays with value\n",
    "a = np.zeros(4);                print(f\"np.zeros(4)  : a = {a}, a shape = {a.shape}, a data type = {a.dtype}\")\n",
    "a = np.zeros((4,));             print(f\"np.zeros(4,)  : a = {a}, a shape = {a.shape}, a data type = {a.dtype}\")\n",
    "a = np.random.random_sample(4); print(f\"np.random.random_sample(4)  : a = {a}, a shape = {a.shape}, a data type = {a.dtype}\")"
   ]
  },
  {
   "cell_type": "markdown",
   "id": "314a6c60-f569-48e8-9710-bafd00f0e5b1",
   "metadata": {},
   "source": [
    "Some data creation routines do not take a shape tuple:"
   ]
  },
  {
   "cell_type": "code",
   "execution_count": 3,
   "id": "08bbdd3b-22a8-4d40-81cb-13a51d95675f",
   "metadata": {},
   "outputs": [
    {
     "name": "stdout",
     "output_type": "stream",
     "text": [
      "np.arange(4.):     a = [0. 1. 2. 3.], a shape = (4,), a data type = float64\n",
      "np.random.rand(4): a = [0.43180115 0.02662375 0.12639158 0.47747388], a shape = (4,), a data type = float64\n"
     ]
    }
   ],
   "source": [
    "# NumPy routines which allocate memory and fill arrays with value but do not accept shape as input argument\n",
    "a = np.arange(4.);              print(f\"np.arange(4.):     a = {a}, a shape = {a.shape}, a data type = {a.dtype}\")\n",
    "a = np.random.rand(4);          print(f\"np.random.rand(4): a = {a}, a shape = {a.shape}, a data type = {a.dtype}\")"
   ]
  },
  {
   "cell_type": "markdown",
   "id": "49bf498a-7107-47fd-820a-6929d1f89404",
   "metadata": {},
   "source": [
    "values can be specified manually as well. "
   ]
  },
  {
   "cell_type": "code",
   "execution_count": 4,
   "id": "d210004d-e273-4752-8f2b-1cb106b24e9b",
   "metadata": {},
   "outputs": [
    {
     "name": "stdout",
     "output_type": "stream",
     "text": [
      "np.array([5,4,3,2]):  a = [5 4 3 2],     a shape = (4,), a data type = int32\n",
      "np.array([5.,4,3,2]): a = [5. 4. 3. 2.], a shape = (4,), a data type = float64\n"
     ]
    }
   ],
   "source": [
    "# NumPy routines which allocate memory and fill with user specified values\n",
    "a = np.array([5,4,3,2]);  print(f\"np.array([5,4,3,2]):  a = {a},     a shape = {a.shape}, a data type = {a.dtype}\")\n",
    "a = np.array([5.,4,3,2]); print(f\"np.array([5.,4,3,2]): a = {a}, a shape = {a.shape}, a data type = {a.dtype}\")"
   ]
  },
  {
   "cell_type": "markdown",
   "id": "a9156e5c-7ba8-4a87-ad83-143ed6b90f34",
   "metadata": {},
   "source": [
    "These have all created a one-dimensional vector  `a` with four elements. `a.shape` returns the dimensions. Here we see a.shape = `(4,)` indicating a 1-d array with 4 elements.  "
   ]
  },
  {
   "cell_type": "markdown",
   "id": "8be81fef-1716-468a-8511-bc815c37b99e",
   "metadata": {},
   "source": [
    "<a name=\"toc_40015_3.4\"></a>\r\n",
    "## 3.4 Operations on Vectors\r\n",
    "Let's explore some operations using vectors.\r\n",
    "<a name=\"toc_40015_3.4.1\"></a>\r\n",
    "### 3.4.1 Indexing\r\n",
    "Elements of vectors can be accessed via indexing and slicing. NumPy provides a very complete set of indexing and slicing capabilities. We will explore only the basics needed for the course here. Reference [Slicing and Indexing](https://NumPy.org/doc/stable/reference/arrays.indexing.html) for more details.  \r\n",
    "**Indexing** means referring to *an element* of an array by its position within the array.  \r\n",
    "**Slicing** means getting a *subset* of elements from an array based on their indices.  \r\n",
    "NumPy starts indexing at zero so the 3rd element of an vector $\\mathbf{a}$ is `a[2]`."
   ]
  },
  {
   "cell_type": "code",
   "execution_count": 5,
   "id": "bd39f67d-5a6f-45ec-85ad-6877e5d0eafb",
   "metadata": {},
   "outputs": [
    {
     "name": "stdout",
     "output_type": "stream",
     "text": [
      "[0 1 2 3 4 5 6 7 8 9]\n",
      "a[2].shape: () a[2]  = 2, Accessing an element returns a scalar\n",
      "a[-1] = 9\n",
      "The error message you'll see is:\n",
      "index 10 is out of bounds for axis 0 with size 10\n"
     ]
    }
   ],
   "source": [
    "#vector indexing operations on 1-D vectors\n",
    "a = np.arange(10)\n",
    "print(a)\n",
    "\n",
    "#access an element\n",
    "print(f\"a[2].shape: {a[2].shape} a[2]  = {a[2]}, Accessing an element returns a scalar\")\n",
    "\n",
    "# access the last element, negative indexes count from the end\n",
    "print(f\"a[-1] = {a[-1]}\")\n",
    "\n",
    "#indexs must be within the range of the vector or they will produce and error\n",
    "try:\n",
    "    c = a[10]\n",
    "except Exception as e:\n",
    "    print(\"The error message you'll see is:\")\n",
    "    print(e)"
   ]
  },
  {
   "cell_type": "markdown",
   "id": "bb2a9de6-3db7-4135-9e92-bd7edaf0f613",
   "metadata": {},
   "source": [
    "<a name=\"toc_40015_3.4.2\"></a>\r\n",
    "### 3.4.2 Slicing\r\n",
    "Slicing creates an array of indices using a set of three values (`start:stop:step`). A subset of values is also valid. Its use is best explained by example:"
   ]
  },
  {
   "cell_type": "code",
   "execution_count": 6,
   "id": "80c1114f-c2ce-4bbb-b628-56f2d13f3f4f",
   "metadata": {},
   "outputs": [
    {
     "name": "stdout",
     "output_type": "stream",
     "text": [
      "a         = [0 1 2 3 4 5 6 7 8 9]\n",
      "a[2:7:1] =  [2 3 4 5 6]\n",
      "a[2:7:2] =  [2 4 6]\n",
      "a[3:]    =  [3 4 5 6 7 8 9]\n",
      "a[:3]    =  [0 1 2]\n",
      "a[:]     =  [0 1 2 3 4 5 6 7 8 9]\n"
     ]
    }
   ],
   "source": [
    "#vector slicing operations\n",
    "a = np.arange(10)\n",
    "print(f\"a         = {a}\")\n",
    "\n",
    "#access 5 consecutive elements (start:stop:step)\n",
    "c = a[2:7:1];     print(\"a[2:7:1] = \", c)\n",
    "\n",
    "# access 3 elements separated by two \n",
    "c = a[2:7:2];     print(\"a[2:7:2] = \", c)\n",
    "\n",
    "# access all elements index 3 and above\n",
    "c = a[3:];        print(\"a[3:]    = \", c)\n",
    "\n",
    "# access all elements below index 3\n",
    "c = a[:3];        print(\"a[:3]    = \", c)\n",
    "\n",
    "# access all elements\n",
    "c = a[:];         print(\"a[:]     = \", c)"
   ]
  },
  {
   "cell_type": "markdown",
   "id": "83b0dfb4-9761-4f81-9a01-23cbac6ec178",
   "metadata": {},
   "source": [
    "<a name=\"toc_40015_3.4.3\"></a>\r\n",
    "### 3.4.3 Single vector operations\r\n",
    "There are a number of useful operations that involve operations on a single vector."
   ]
  },
  {
   "cell_type": "code",
   "execution_count": 7,
   "id": "a9e7d045-17e7-47a0-b7a3-556463b1b8cc",
   "metadata": {},
   "outputs": [
    {
     "name": "stdout",
     "output_type": "stream",
     "text": [
      "a                : [1 2 3 4]\n",
      "b = -a           : [-1 -2 -3 -4]\n",
      "b = np.sum(a)    : 10\n",
      "b = np.mean(a)   : 2.5\n",
      "b = a**2         : [ 1  4  9 16]\n"
     ]
    }
   ],
   "source": [
    "a = np.array([1, 2, 3, 4])\n",
    "print(f\"a                : {a}\")\n",
    "# negative elements of a\n",
    "b = -a\n",
    "print(f\"b = -a           : {b}\")\n",
    "\n",
    "# sum all elements pf a, returns a scalar\n",
    "b = np.sum(a)\n",
    "print(f\"b = np.sum(a)    : {b}\")\n",
    "\n",
    "b = np.mean(a)\n",
    "print(f\"b = np.mean(a)   : {b}\")\n",
    "\n",
    "b = a**2\n",
    "print(f\"b = a**2         : {b}\")"
   ]
  },
  {
   "cell_type": "markdown",
   "id": "504227a5-bb22-4f8d-b873-f836f672c5e6",
   "metadata": {},
   "source": [
    "<a name=\"toc_40015_3.4.4\"></a>\r\n",
    "### 3.4.4 Vector Vector element-wise operations\r\n",
    "Most of the NumPy arithmetic, logical and comparison operations apply to vectors as well. These operators work on an element-by-element basis. For example \r\n",
    "$$ c_i = a_i + b_i $$"
   ]
  },
  {
   "cell_type": "code",
   "execution_count": 8,
   "id": "df367a43-776b-47de-96a5-2a3a99476cad",
   "metadata": {},
   "outputs": [
    {
     "name": "stdout",
     "output_type": "stream",
     "text": [
      "Binary operators work element wise: [0 0 6 8]\n"
     ]
    }
   ],
   "source": [
    "a = np.array([1, 2, 3, 4])\n",
    "b = np.array([-1, -2, 3, 4])\n",
    "print(f\"Binary operators work element wise: {a + b}\")"
   ]
  },
  {
   "cell_type": "markdown",
   "id": "193fc18f-64f1-4f00-b450-882bf78906e2",
   "metadata": {},
   "source": [
    "Of course, for this to work correctly, the vectors must be of the same size:"
   ]
  },
  {
   "cell_type": "code",
   "execution_count": 9,
   "id": "167df9d3-440f-47e1-a41d-233d3d3d15d8",
   "metadata": {},
   "outputs": [
    {
     "name": "stdout",
     "output_type": "stream",
     "text": [
      "The error message we will see is:\n",
      "operands could not be broadcast together with shapes (4,) (2,) \n"
     ]
    }
   ],
   "source": [
    "# try a mismatched vector operation\n",
    "c = np.array([1, 2])\n",
    "try:\n",
    "    d = a+ c\n",
    "except Exception as e:\n",
    "    print(\"The error message we will see is:\")\n",
    "    print(e)"
   ]
  },
  {
   "cell_type": "markdown",
   "id": "531dbce2-5959-4a0c-8abf-58a7a6be1125",
   "metadata": {},
   "source": [
    "<a name=\"toc_40015_3.4.5\"></a>\n",
    "### 3.4.5 Scalar Vector operations\n",
    "Vectors can be 'scaled' by scalar values. A scalar value is just a number. The scalar multiplies all the elements of the vector."
   ]
  },
  {
   "cell_type": "code",
   "execution_count": 10,
   "id": "a5062268-19e2-409d-b1df-c8a834e097dc",
   "metadata": {},
   "outputs": [
    {
     "name": "stdout",
     "output_type": "stream",
     "text": [
      "b = 5 * a : [ 5 10 15 20]\n"
     ]
    }
   ],
   "source": [
    "a = np.array([1, 2, 3, 4])\n",
    "\n",
    "# multiply a by a scalar\n",
    "b = 5 * a \n",
    "print(f\"b = 5 * a : {b}\")"
   ]
  },
  {
   "cell_type": "markdown",
   "id": "bc562b18-a08d-4d5c-8dc9-a2d625b07708",
   "metadata": {},
   "source": [
    "<a name=\"toc_40015_3.4.6\"></a>\n",
    "### 3.4.6 Vector Vector dot product\n",
    "The dot product is a mainstay of Linear Algebra and NumPy. This is an operation used extensively in this course and should be well understood. The dot product is shown below."
   ]
  },
  {
   "cell_type": "markdown",
   "id": "4cd54fd7-1bbc-4dfd-95bf-c5aa0861e8ab",
   "metadata": {},
   "source": [
    "![](./images/C1_W2_Lab04_dot_notrans.gif) "
   ]
  },
  {
   "cell_type": "markdown",
   "id": "d4fde8aa-dbb5-431d-9580-5751f1b311bd",
   "metadata": {},
   "source": [
    "The dot product multiplies the values in two vectors element-wise and then sums the result.\n",
    "Vector dot product requires the dimensions of the two vectors to be the same. "
   ]
  },
  {
   "cell_type": "markdown",
   "id": "f639fb3f-533b-4530-a85b-d4fed76303ab",
   "metadata": {},
   "source": [
    "Let's implement our own version of the dot product below:\n",
    "\n",
    "**Using a for loop**, implement a function which returns the dot product of two vectors. The function to return given inputs $a$ and $b$:\n",
    "$$ x = \\sum_{i=0}^{n-1} a_i b_i $$\n",
    "Assume both `a` and `b` are the same shape."
   ]
  },
  {
   "cell_type": "code",
   "execution_count": 11,
   "id": "588a4583-1331-427b-8d85-866d721b72c1",
   "metadata": {},
   "outputs": [],
   "source": [
    "def my_dot(a, b):\n",
    "    \"\"\"\n",
    "    Compute the dot product of two vectors\n",
    "\n",
    "    Args:\n",
    "    a (ndarray (n,)): input vector\n",
    "    b (ndarray (n,)): input vector with same dimension as a\n",
    "\n",
    "    Returns:\n",
    "    x(scalar):\n",
    "    \"\"\"\n",
    "    x = 0\n",
    "    for i in range(a.shape[0]):\n",
    "        x = x + a[i] * b[i]\n",
    "    return x"
   ]
  },
  {
   "cell_type": "code",
   "execution_count": 12,
   "id": "7c249993-c547-4ab2-ab6b-0fd1f3e78889",
   "metadata": {},
   "outputs": [
    {
     "name": "stdout",
     "output_type": "stream",
     "text": [
      "my_dot(a, b) = 24\n"
     ]
    }
   ],
   "source": [
    "# test 1-D\n",
    "a = np.array([1, 2, 3, 4])\n",
    "b = np.array([-1, 4, 3, 2])\n",
    "print(f\"my_dot(a, b) = {my_dot(a, b)}\")"
   ]
  },
  {
   "cell_type": "markdown",
   "id": "442bfcfd-d0bb-48b5-922a-90beac633ff9",
   "metadata": {},
   "source": [
    "Note, the dot product is expected to return a scalar value. \r\n",
    "\r\n",
    "Let's try the same operations using `np.dot`.  "
   ]
  },
  {
   "cell_type": "code",
   "execution_count": 13,
   "id": "a4e5a311-f73d-4b11-be3f-3785fd37b41e",
   "metadata": {},
   "outputs": [
    {
     "name": "stdout",
     "output_type": "stream",
     "text": [
      "Numpy 1 - D np.dot(a, b) = 24, np.dot(a, b).shape = ()\n",
      "Numpy 1 - D np.dot(b, a) = 24, np.dot(b, a).shape = ()\n"
     ]
    }
   ],
   "source": [
    "# test 1-D\n",
    "a = np.array([1, 2, 3, 4])\n",
    "b = np.array([-1, 4, 3, 2])\n",
    "c = np.dot(a, b)\n",
    "print(f\"Numpy 1 - D np.dot(a, b) = {c}, np.dot(a, b).shape = {c.shape}\")\n",
    "c = np.dot(b, a)\n",
    "print(f\"Numpy 1 - D np.dot(b, a) = {c}, np.dot(b, a).shape = {c.shape}\")"
   ]
  },
  {
   "cell_type": "markdown",
   "id": "ae9774d6-0281-474b-952d-fa6e079cb120",
   "metadata": {},
   "source": [
    "Above, you will note that the results for 1-D matched our implementation."
   ]
  },
  {
   "cell_type": "markdown",
   "id": "8be80b00-01ae-40e7-94d0-6c297fc3dadf",
   "metadata": {},
   "source": [
    "<a name=\"toc_40015_3.4.7\"></a>\r\n",
    "### 3.4.7 The Need for Speed: vector vs for loop\r\n",
    "We utilized the NumPy  library because it improves speed memory efficiency. Let's demonstrate:"
   ]
  },
  {
   "cell_type": "code",
   "execution_count": 14,
   "id": "3e5df069-806b-4adb-aab6-8cc9f2a3c1c0",
   "metadata": {},
   "outputs": [
    {
     "name": "stdout",
     "output_type": "stream",
     "text": [
      "np.dot(a, b) = 2501072.5817\n",
      "Vectorized version duration: 42.7577 ms \n",
      "my_dot(a, b) = 2501072.5817\n",
      "loop version duration: 3442.4238 ms \n"
     ]
    }
   ],
   "source": [
    "np.random.seed(1)\n",
    "a = np.random.rand(10000000)\n",
    "b = np.random.rand(10000000)\n",
    "\n",
    "tic = time.time()     # capture start time\n",
    "c = np.dot(a, b)\n",
    "toc = time.time()     # capture end time\n",
    "\n",
    "print(f\"np.dot(a, b) = {c:.4f}\")\n",
    "print(f\"Vectorized version duration: {1000*(toc-tic):.4f} ms \")\n",
    "\n",
    "tic = time.time()  # capture start time\n",
    "c = my_dot(a, b)\n",
    "toc = time.time()  # capture end time\n",
    "\n",
    "print(f\"my_dot(a, b) = {c:.4f}\")\n",
    "print(f\"loop version duration: {1000*(toc-tic):.4f} ms \")\n",
    "\n",
    "del(a);del(b)  #remove these big arrays from memory"
   ]
  },
  {
   "cell_type": "markdown",
   "id": "535aaacc-ae0d-4a60-a3bc-3c592f914e56",
   "metadata": {},
   "source": [
    "So, vectorization provides a large speed up in this example. This is because NumPy makes better use of available data parallelism in the underlying hardware. GPU's and modern CPU's implement Single Instruction, Multiple Data (SIMD) pipelines allowing multiple operations to be issued in parallel. This is critical in Machine Learning where the data sets are often very large."
   ]
  },
  {
   "cell_type": "markdown",
   "id": "bdb23e09-6ba1-4d40-b950-57d1ac6118f3",
   "metadata": {},
   "source": [
    "<a name=\"toc_12345_3.4.8\"></a>\r\n",
    "### 3.4.8 Vector Vector operations in Course 1\r\n",
    "Vector Vector operations will appear frequently in course 1. Here is why:\r\n",
    "- Going forward, our examples will be stored in an array, `X_train` of dimension (m,n). This will be explained more in context, but here it is important to note it is a 2 Dimensional array or matrix (see next section on matrices).\r\n",
    "- `w` will be a 1-dimensional vector of shape (n,).\r\n",
    "- we will perform operations by looping through the examples, extracting each example to work on individually by indexing X. For example:`X[i]`\r\n",
    "- `X[i]` returns a value of shape (n,), a 1-dimensional vector. Consequently, operations involving `X[i]` are often vector-vector.  \r\n",
    "\r\n",
    "That is a somewhat lengthy explanation, but aligning and understanding the shapes of your operands is important when performing vector operations."
   ]
  },
  {
   "cell_type": "code",
   "execution_count": 15,
   "id": "574fd420-a6d5-47ee-b368-50777d132dac",
   "metadata": {},
   "outputs": [
    {
     "name": "stdout",
     "output_type": "stream",
     "text": [
      "X[1] has shape (1,)\n",
      "w has shape (1,)\n",
      "c has shape ()\n"
     ]
    }
   ],
   "source": [
    "# show common Course 1 example\n",
    "X = np.array([[1],[2],[3],[4]])\n",
    "w = np.array([2])\n",
    "c = np.dot(X[1], w)\n",
    "\n",
    "print(f\"X[1] has shape {X[1].shape}\")\n",
    "print(f\"w has shape {w.shape}\")\n",
    "print(f\"c has shape {c.shape}\")"
   ]
  },
  {
   "cell_type": "markdown",
   "id": "8f5bc5f3-5693-426b-a92c-2320b75d6e84",
   "metadata": {},
   "source": [
    "<a name=\"toc_40015_4.1\"></a>\r\n",
    "## 4.1 Abstract\r\n",
    "Matrices, are two dimensional arrays. The elements of a matrix are all of the same type. In notation, matrices are denoted with capitol, bold letter such as $\\mathbf{X}$. In this and other labs, `m` is often the number of rows and `n` the number of columns. The elements of a matrix can be referenced with a two dimensional index. In math settings, numbers in the index typically run from 1 to n. In computer science and these labs, indexing will run from 0 to n-1.  "
   ]
  },
  {
   "cell_type": "markdown",
   "id": "157607c1-0aa9-407c-9e48-b8747c185121",
   "metadata": {},
   "source": [
    "![](./images/C1_W2_Lab04_Matrices.PNG) \n",
    "<figcaption> Generic Matrix Notation, 1st index is row, 2nd is column </figcaption>"
   ]
  },
  {
   "cell_type": "markdown",
   "id": "17f52c47-f7b2-433e-abea-80944b12f1bb",
   "metadata": {},
   "source": [
    "<a name=\"toc_40015_4.2\"></a>\n",
    "## 4.2 NumPy Arrays\n",
    "\n",
    "NumPy's basic data structure is an indexable, n-dimensional *array* containing elements of the same type (`dtype`). These were described earlier. Matrices have a two-dimensional (2-D) index [m,n].\n",
    "\n",
    "In Course 1, 2-D matrices are used to hold training data. Training data is $m$ examples by $n$ features creating an (m,n) array. Course 1 does not do operations directly on matrices but typically extracts an example as a vector and operates on that. Below you will review: \n",
    "- data creation\n",
    "- slicing and indexing"
   ]
  },
  {
   "cell_type": "markdown",
   "id": "0d3f8ec1-dc1e-46dd-9b67-769ec3ac70b8",
   "metadata": {},
   "source": [
    "<a name=\"toc_40015_4.3\"></a>\n",
    "## 4.3 Matrix Creation\n",
    "The same functions that created 1-D vectors will create 2-D or n-D arrays. Here are some examples"
   ]
  },
  {
   "cell_type": "markdown",
   "id": "0f5cddce-698a-4ca3-90df-3092a211b315",
   "metadata": {},
   "source": [
    "Below, the shape tuple is provided to achieve a 2-D result. Notice how NumPy uses brackets to denote each dimension. Notice further than NumPy, when printing, will print one row per line.\r\n"
   ]
  },
  {
   "cell_type": "code",
   "execution_count": 16,
   "id": "e3b28d5b-8887-4fb5-afd5-b81e2070b665",
   "metadata": {},
   "outputs": [
    {
     "name": "stdout",
     "output_type": "stream",
     "text": [
      "a shape = (1, 5), a = [[0. 0. 0. 0. 0.]]\n",
      "a shape = (2, 1), a = [[0.]\n",
      " [0.]]\n",
      "a shape = (1, 1), a = [[0.44236513]]\n"
     ]
    }
   ],
   "source": [
    "a = np.zeros((1, 5))\n",
    "print(f\"a shape = {a.shape}, a = {a}\")\n",
    "\n",
    "a = np.zeros((2, 1))\n",
    "print(f\"a shape = {a.shape}, a = {a}\")\n",
    "\n",
    "a = np.random.random_sample((1, 1))\n",
    "print(f\"a shape = {a.shape}, a = {a}\")"
   ]
  },
  {
   "cell_type": "markdown",
   "id": "a6ff5c84-f387-4e61-bb3b-498069ebf59e",
   "metadata": {},
   "source": [
    "One can also manually specify data. Dimensions are specified with additional brackets matching the format in the printing above."
   ]
  },
  {
   "cell_type": "code",
   "execution_count": 17,
   "id": "9b38149b-afee-4bc7-a733-359941e4b654",
   "metadata": {},
   "outputs": [
    {
     "name": "stdout",
     "output_type": "stream",
     "text": [
      "a shape = (3, 1), np.array: a = [[5]\n",
      " [4]\n",
      " [3]]\n",
      "a shape = (3, 1), np.array: a = [[5]\n",
      " [4]\n",
      " [3]]\n"
     ]
    }
   ],
   "source": [
    "# Numpy Routines which allocate memory and fill with user specified values\n",
    "a = np.array([[5], [4], [3]]);    print(f\"a shape = {a.shape}, np.array: a = {a}\")\n",
    "a = np.array([[5],    # One can also\n",
    "             [4],     # separate values\n",
    "             [3]])    # into separate rows\n",
    "print(f\"a shape = {a.shape}, np.array: a = {a}\")"
   ]
  },
  {
   "cell_type": "markdown",
   "id": "55a78ab9-c43b-4200-bba3-3d1d995630bb",
   "metadata": {},
   "source": [
    "<a name=\"toc_40015_4.4\"></a>\n",
    "## 4.4 Operations on Matrices\n",
    "Let's explore some operations using matrices."
   ]
  },
  {
   "cell_type": "markdown",
   "id": "894892be-ae52-4c43-b41c-680657754d9e",
   "metadata": {},
   "source": [
    "<a name=\"toc_40015_4.4.1\"></a>\r\n",
    "### 4.4.1 Indexing\r\n"
   ]
  },
  {
   "cell_type": "markdown",
   "id": "9419b642-20dc-4b68-aa32-dfb7e1fbf1fc",
   "metadata": {},
   "source": [
    "Matrices include a second index. The two indexes describe [row, column]. Access can either return an element or a row/column. See below:"
   ]
  },
  {
   "cell_type": "code",
   "execution_count": 18,
   "id": "51f08b69-f315-4a82-b4f4-cf645752062a",
   "metadata": {},
   "outputs": [
    {
     "name": "stdout",
     "output_type": "stream",
     "text": [
      "a.shape: (3, 2), \n",
      "a= [[0 1]\n",
      " [2 3]\n",
      " [4 5]]\n",
      "\n",
      "a[2,0].shape:   (), a[2,0] = 4,     type(a[2,0]) = <class 'numpy.int32'> Accessing an element returns a scalar\n",
      "\n",
      "a[2].shape:   (2,), a[2]   = [4 5], type(a[2])   = <class 'numpy.ndarray'>\n"
     ]
    }
   ],
   "source": [
    "#vector indexing operations on matrices\n",
    "a = np.arange(6).reshape(-1, 2)   #reshape is a convenient way to create matrices\n",
    "print(f\"a.shape: {a.shape}, \\na= {a}\")\n",
    "\n",
    "#access an element\n",
    "print(f\"\\na[2,0].shape:   {a[2, 0].shape}, a[2,0] = {a[2, 0]},     type(a[2,0]) = {type(a[2, 0])} Accessing an element returns a scalar\\n\")\n",
    "\n",
    "#access a row\n",
    "print(f\"a[2].shape:   {a[2].shape}, a[2]   = {a[2]}, type(a[2])   = {type(a[2])}\")"
   ]
  },
  {
   "cell_type": "markdown",
   "id": "aae26a9b-1b42-433c-826f-e96eb146991e",
   "metadata": {},
   "source": [
    "It is worth drawing attention to the last example. Accessing a matrix by just specifying the row will return a *1-D vector*."
   ]
  },
  {
   "cell_type": "markdown",
   "id": "c5d21baf-11c4-42f0-9ab5-2e70e9cabd25",
   "metadata": {},
   "source": [
    "**Reshape**  \r\n",
    "The previous example used [reshape](https://numpy.org/doc/stable/reference/generated/numpy.reshape.html) to shape the array.  \r\n",
    "`a = np.arange(6).reshape(-1, 2) `   \r\n",
    "This line of code first created a *1-D Vector* of six elements. It then reshaped that vector into a *2-D* array using the reshape command. This could have been written:  \r\n",
    "`a = np.arange(6).reshape(3, 2) `  \r\n",
    "To arrive at the same 3 row, 2 column array.\r\n",
    "The -1 argument tells the routine to compute the number of rows given the size of the array and the number of columns."
   ]
  },
  {
   "cell_type": "markdown",
   "id": "0fbaa02b-fc4f-41dd-ab6c-b55de9673d62",
   "metadata": {},
   "source": [
    "<a name=\"toc_40015_4.4.2\"></a>\n",
    "### 4.4.2 Slicing\n",
    "Slicing creates an array of indices using a set of three values (`start:stop:step`). A subset of values is also valid. Its use is best explained by example:"
   ]
  },
  {
   "cell_type": "code",
   "execution_count": 19,
   "id": "1862267f-7336-441e-8a9f-dd793f222874",
   "metadata": {},
   "outputs": [
    {
     "name": "stdout",
     "output_type": "stream",
     "text": [
      "a = \n",
      "[[ 0  1  2  3  4  5  6  7  8  9]\n",
      " [10 11 12 13 14 15 16 17 18 19]]\n",
      "a[0, 2:7:1] =  [2 3 4 5 6] ,  a[0, 2:7:1].shape = (5,) a 1-D array\n",
      "a[:, 2:7:1] = \n",
      " [[ 2  3  4  5  6]\n",
      " [12 13 14 15 16]] ,  a[:, 2:7:1].shape = (2, 5) a 2-D array\n",
      "a[:,:] = \n",
      " [[ 0  1  2  3  4  5  6  7  8  9]\n",
      " [10 11 12 13 14 15 16 17 18 19]] ,  a[:,:].shape = (2, 10)\n",
      "a[1,:] =  [10 11 12 13 14 15 16 17 18 19] ,  a[1,:].shape = (10,) a 1-D array\n",
      "a[1]   =  [10 11 12 13 14 15 16 17 18 19] ,  a[1].shape   = (10,) a 1-D array\n"
     ]
    }
   ],
   "source": [
    "#vector 2-D slicing operations\n",
    "a = np.arange(20).reshape(-1, 10)   #-1: This tells NumPy to automatically determine the number of rows based on the total number of elements.\n",
    "print(f\"a = \\n{a}\")                 #10: This sets the number of columns to 10.\n",
    "\n",
    "#access 5 consecutive elements (start:stop:step)\n",
    "print(\"a[0, 2:7:1] = \", a[0, 2:7:1], \",  a[0, 2:7:1].shape =\", a[0, 2:7:1].shape, \"a 1-D array\")\n",
    "\n",
    "#access 5 consecutive elements (start:stop:step) in two rows\n",
    "print(\"a[:, 2:7:1] = \\n\", a[:, 2:7:1], \",  a[:, 2:7:1].shape =\", a[:, 2:7:1].shape, \"a 2-D array\")\n",
    "\n",
    "# access all elements\n",
    "print(\"a[:,:] = \\n\", a[:,:], \",  a[:,:].shape =\", a[:,:].shape)\n",
    "\n",
    "# access all elements in one row (very common usage)\n",
    "print(\"a[1,:] = \", a[1,:], \",  a[1,:].shape =\", a[1,:].shape, \"a 1-D array\")\n",
    "# same as\n",
    "print(\"a[1]   = \", a[1],   \",  a[1].shape   =\", a[1].shape, \"a 1-D array\")\n"
   ]
  },
  {
   "cell_type": "markdown",
   "id": "75ca3aab-9ee8-4845-b949-0ab96beb015f",
   "metadata": {},
   "source": [
    "<a name=\"toc_40015_5.0\"></a>\n",
    "## Congratulations!\n",
    "In this lab you mastered the features of Python and NumPy that are needed for Course 1."
   ]
  },
  {
   "cell_type": "code",
   "execution_count": null,
   "id": "8cc6d01f-adb1-45b8-85a4-79e13c1cc284",
   "metadata": {},
   "outputs": [],
   "source": []
  }
 ],
 "metadata": {
  "kernelspec": {
   "display_name": "Python 3 (ipykernel)",
   "language": "python",
   "name": "python3"
  },
  "language_info": {
   "codemirror_mode": {
    "name": "ipython",
    "version": 3
   },
   "file_extension": ".py",
   "mimetype": "text/x-python",
   "name": "python",
   "nbconvert_exporter": "python",
   "pygments_lexer": "ipython3",
   "version": "3.12.4"
  }
 },
 "nbformat": 4,
 "nbformat_minor": 5
}
