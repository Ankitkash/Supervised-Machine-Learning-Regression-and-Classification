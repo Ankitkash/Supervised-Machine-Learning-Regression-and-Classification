{
 "cells": [
  {
   "cell_type": "markdown",
   "id": "18b14dc0-136c-4d7e-9b6f-4091d03f7e3b",
   "metadata": {},
   "source": [
    "# Lab: Model Representation\n",
    "\n",
    "![](./images/C1_W1_L3_S1_Lecture_b.png)\r\n"
   ]
  },
  {
   "cell_type": "markdown",
   "id": "3ad26dfa-1055-4551-a7e9-73041f507a08",
   "metadata": {},
   "source": [
    "## Goals\r\n",
    "In this lab you will:\r\n",
    "- Learn to implement the model $f_{w,b}$ for linear regression with one variable"
   ]
  },
  {
   "cell_type": "markdown",
   "id": "840da265-0e2c-4618-a438-2c216788c67d",
   "metadata": {},
   "source": [
    "## Notation\r\n",
    "Here is a summary of some of the notation you will encounter.  \r\n",
    "\r\n",
    "| General Notation | Description | Python (if applicable) |\r\n",
    "|:---------------|:------------------------------------------------------------|:----------------------|\r\n",
    "| $a$ | Scalar, non-bold | |\r\n",
    "| $\\mathbf{a}$ | Vector, bold | |\r\n",
    "| **Regression** | | |\r\n",
    "| $\\mathbf{x}$ | Training example feature values (in this lab - Size in 1000 sqft) | `x_train` |   \r\n",
    "| $\\mathbf{y}$ | Training example targets (in this lab - Price in 1000s of dollars) | `y_train` |\r\n",
    "| $x^{(i)}$, $y^{(i)}$ | $i_{th}$ training example | `x_i`, `y_i` |\r\n",
    "| $m$ | Number of training examples | `m` |\r\n",
    "| $w$ | Parameter: weight | `w` |\r\n",
    "| $b$ | Parameter: bias | `b` |\r\n",
    "| $f_{w,b}(x^{(i)})$ | Model evaluation at $x^{(i)}$, parameterized by $w,b$: <br> $f_{w,b}(x^{(i)}) = wx^{(i)}+b$ | `f_wb` |\r\n"
   ]
  },
  {
   "cell_type": "markdown",
   "id": "2e165ecd-82b5-492b-9be0-074667a344a2",
   "metadata": {},
   "source": [
    "## Tools\r\n",
    "In this lab you will make use of: \r\n",
    "- NumPy, a popular library for scientific computing\r\n",
    "- Matplotlib, a popular library for plotting data"
   ]
  },
  {
   "cell_type": "code",
   "execution_count": 1,
   "id": "60d94a4f-6cbc-4891-ad2e-a34d3e9685ac",
   "metadata": {},
   "outputs": [],
   "source": [
    "import numpy as np\n",
    "import matplotlib.pyplot as plt\n",
    "plt.style.use('./images/deeplearning.mplstyle')"
   ]
  },
  {
   "cell_type": "markdown",
   "id": "1b85674c-dde8-426d-8c37-31bf4a6b9bc6",
   "metadata": {},
   "source": [
    "\n",
    "\n",
    "![](./images/C1_W1_L3_S1_Lecture_b.png)"
   ]
  },
  {
   "cell_type": "markdown",
   "id": "06225be2-37a2-4013-91e6-cf790ed35ce5",
   "metadata": {},
   "source": [
    "As in the lecture, you will use the motivating example of housing price prediction.  \n",
    "This lab will use a simple dataset with only two data points:  \n",
    "- A house with **1000 square feet (sqft)** sold for **\\$300,000**.  \n",
    "- A house with **2000 square feet** sold for **\\$500,000**.  \n",
    "\n",
    "These two points constitute our *data or training set*.  \n",
    "In this lab, the units of **size** are in *1000 sqft*, and the units of **price** are in *1000s of dollars*.\n",
    "### **Training Data Table**\n",
    "| Size (1000 sqft) | Price (1000s of dollars) |\n",
    "|------------------|------------------------|\n",
    "| 1.0             | 300                     |\n",
    "| 2.0             | 500                     |\n",
    "\n",
    "You would like to fit a **linear regression model** (shown above as the blue straight line) through these two points, so you can then predict the price of other houses—say, a house with **1200 sqft**."
   ]
  },
  {
   "cell_type": "markdown",
   "id": "71cfe79a-90b8-4cab-aae3-ded8281b72f8",
   "metadata": {},
   "source": [
    "Please run the following code cell to create your `x_train` and `y_train` variables. The data is stored in one-dimensional NumPy arrays."
   ]
  },
  {
   "cell_type": "code",
   "execution_count": 2,
   "id": "d19373f8-241f-4670-8d2e-775bb99d3548",
   "metadata": {},
   "outputs": [
    {
     "name": "stdout",
     "output_type": "stream",
     "text": [
      "x_train = [1. 2.]\n",
      "y_train = [300. 500.]\n"
     ]
    }
   ],
   "source": [
    "# x_train is the input variable (size in 1000 square feet)\n",
    "# y_train is the target (price in 1000s of dollars)\n",
    "x_train = np.array([1.0, 2.0])\n",
    "y_train = np.array([300.00, 500.00])\n",
    "print(f\"x_train = {x_train}\")\n",
    "print(f\"y_train = {y_train}\")"
   ]
  },
  {
   "cell_type": "markdown",
   "id": "6b0f96bc-aea7-4841-9fca-1fbd7b1d836c",
   "metadata": {},
   "source": [
    ">**Note**: The course will frequently utilize the python 'f-string' output formatting described [here](https://docs.python.org/3/tutorial/inputoutput.html) when printing. The content between the curly braces is evaluated when producing the output."
   ]
  },
  {
   "cell_type": "code",
   "execution_count": 3,
   "id": "2fa95652-9186-495f-8a42-de07856e27b2",
   "metadata": {},
   "outputs": [
    {
     "name": "stdout",
     "output_type": "stream",
     "text": [
      "Using print(): Hello, Ankit You are 25 years old.\n",
      "Using f-string: Hello, Ankit. You are 25 years old.\n"
     ]
    }
   ],
   "source": [
    "# Difference between print & f-string\n",
    "name = \"Ankit\"\n",
    "age = 25\n",
    "print(\"Using print():\", \"Hello,\", name, \"You are\", age, \"years old.\")\n",
    "print(f\"Using f-string: Hello, {name}. You are {age} years old.\")"
   ]
  },
  {
   "cell_type": "markdown",
   "id": "919e818d-ef49-46d3-be75-1147d30704dc",
   "metadata": {},
   "source": [
    "### Number of training examples `m`\r\n",
    "You will use `m` to denote the number of training examples. Numpy arrays have a `.shape` parameter. `x_train.shape` returns a python tuple with an entry for each dimension. `x_train.shape[0]` is the length of the array and number of examples as shown below."
   ]
  },
  {
   "cell_type": "code",
   "execution_count": 4,
   "id": "6865db4d-d0a0-46ca-b2c9-2f8960f79667",
   "metadata": {},
   "outputs": [
    {
     "name": "stdout",
     "output_type": "stream",
     "text": [
      "x_train.shape: (2,)\n",
      "Number of training examples is: 2\n"
     ]
    }
   ],
   "source": [
    "# m is the number of training examples\n",
    "print(f\"x_train.shape: {x_train.shape}\")\n",
    "m = x_train.shape[0]\n",
    "print(f\"Number of training examples is: {m}\")"
   ]
  },
  {
   "cell_type": "markdown",
   "id": "0293a81d-f110-4d0b-93ce-1fd5246f00d9",
   "metadata": {},
   "source": [
    "One can also use the Python `len()` function as shown below."
   ]
  },
  {
   "cell_type": "code",
   "execution_count": 5,
   "id": "a05d03ae-2c78-441a-b519-30a1b962b4cd",
   "metadata": {},
   "outputs": [
    {
     "name": "stdout",
     "output_type": "stream",
     "text": [
      "Number of training examples is: 2\n"
     ]
    }
   ],
   "source": [
    "# m is the number of training examples\n",
    "m = len(x_train)\n",
    "print(f\"Number of training examples is: {m}\")"
   ]
  },
  {
   "cell_type": "markdown",
   "id": "7b961674-df7b-49db-a7b3-d512fa96661e",
   "metadata": {},
   "source": [
    "### Training example `x_i, y_i`\n",
    "\n",
    "You will use (x$^{(i)}$, y$^{(i)}$) to denote the $i^{th}$ training example. Since Python is zero indexed, (x$^{(0)}$, y$^{(0)}$) is (1.0, 300.0) and (x$^{(1)}$, y$^{(1)}$) is (2.0, 500.0). \n",
    "\n",
    "To access a value in a Numpy array, one indexes the array with the desired offset. For example the syntax to access location zero of `x_train` is `x_train[0]`.\n",
    "Run the next code block below to get the $i^{th}$ training example."
   ]
  },
  {
   "cell_type": "code",
   "execution_count": 6,
   "id": "e0549ee0-f733-4a2c-b61f-70364cbf37db",
   "metadata": {},
   "outputs": [
    {
     "name": "stdout",
     "output_type": "stream",
     "text": [
      "(x^(0), y^(0)) = ((1.0, {300.0}))\n"
     ]
    }
   ],
   "source": [
    "i = 0 # Change this to 1 to see (x^1, y^1)\n",
    "\n",
    "x_i = x_train[i]\n",
    "y_i = y_train[i]\n",
    "print(f\"(x^({i}), y^({i})) = ({x_i, {y_i}})\")"
   ]
  },
  {
   "cell_type": "markdown",
   "id": "a8b829db-c7a5-49b4-a4b8-7068832761d3",
   "metadata": {},
   "source": [
    "### Plotting the data"
   ]
  },
  {
   "cell_type": "markdown",
   "id": "1789d9a2-3af1-4907-9226-a0c5422085a1",
   "metadata": {},
   "source": [
    "You can plot these two points using the `scatter()` function in the `matplotlib` library, as shown in the cell below. \n",
    "- The function arguments `marker` and `c` show the points as red crosses (the default is blue dots).\n",
    "\n",
    "You can use other functions in the `matplotlib` library to set the title and labels to display"
   ]
  },
  {
   "cell_type": "code",
   "execution_count": 7,
   "id": "6aa5aaaf-e3df-499d-ba2c-07b6255f38a8",
   "metadata": {},
   "outputs": [
    {
     "data": {
      "image/png": "[encoded data removed]",
      "text/plain": [
       "<Figure size 640x480 with 1 Axes>"
      ]
     },
     "metadata": {},
     "output_type": "display_data"
    }
   ],
   "source": [
    "# Plot the data points\n",
    "plt.scatter(x_train, y_train, marker = 'x', c = 'r')\n",
    "# Set the title\n",
    "plt.title(\"Housing Prices\")\n",
    "# Set the y-axis label\n",
    "plt.ylabel('Price (in 1000s of dollars)')\n",
    "# Set the x-axis label\n",
    "plt.xlabel('Size (1000 sqft)')\n",
    "plt.show()"
   ]
  },
  {
   "cell_type": "markdown",
   "id": "e5a81761-07f4-4376-a498-146578607aec",
   "metadata": {},
   "source": [
    "## Model function\n",
    "\n",
    "![](./images/C1_W1_L3_S1_Lecture_b.png)"
   ]
  },
  {
   "cell_type": "markdown",
   "id": "5154fe2b-dd36-4e9a-8af8-03eed92c7498",
   "metadata": {},
   "source": [
    "As described in lecture, the model function for linear regression (which is a function that maps from `x` to `y`) is represented as \n",
    "\n",
    "$$ f_{w,b}(x^{(i)}) = wx^{(i)} + b \\tag{1}$$\n",
    "\n",
    "The formula above is how you can represent straight lines - different values of $w$ and $b$ give you different straight lines on the plot.  \n",
    "\n",
    "Let's try to get a better intuition for this through the code blocks below. Let's start with $w = 100$ and $b = 100$. \n",
    "\n",
    "**Note: You can come back to this cell to adjust the model's w and b parameters**"
   ]
  },
  {
   "cell_type": "code",
   "execution_count": 8,
   "id": "783e838e-cd72-4e22-b777-06ed1b27802a",
   "metadata": {},
   "outputs": [
    {
     "name": "stdout",
     "output_type": "stream",
     "text": [
      "w: 100\n",
      "b: 100\n"
     ]
    }
   ],
   "source": [
    "w = 100\n",
    "b = 100\n",
    "print(f\"w: {w}\")\n",
    "print(f\"b: {b}\")"
   ]
  },
  {
   "cell_type": "markdown",
   "id": "02310dbf-2ef6-49cb-9afd-20fe2138290e",
   "metadata": {},
   "source": [
    "Now, let's compute the value of $f_{w,b}(x^{(i)})$ for your two data points. You can explicitly write this out for each data point as - \r\n",
    "\r\n",
    "for $x^{(0)}$, `f_wb = w * x[0] + b`\r\n",
    "\r\n",
    "for $x^{(1)}$, `f_wb = w * x[1] + b`\r\n",
    "\r\n",
    "For a large number of data points, this can get unwieldy and repetitive. So instead, you can calculate the function output in a `for` loop as shown in the `compute_model_output` function below.\r\n",
    "> **Note**: The argument description `(ndarray (m,))` describes a Numpy n-dimensional array of shape (m,). `(scalar)` describes an argument without dimensions, just a magnitude.  \r\n",
    "> **Note**: `np.zero(n)` will return a one-dimensional numpy array with $n$ entries   \r\n"
   ]
  },
  {
   "cell_type": "code",
   "execution_count": 9,
   "id": "8f9d5071-423b-43f4-9e29-1d408120ed98",
   "metadata": {},
   "outputs": [],
   "source": [
    "def compute_model_output(x, w, b):\n",
    "    \"\"\"\n",
    "    Computes the prediction of a linear model\n",
    "    Args:\n",
    "     x (ndarray (m,)): Data, m examples\n",
    "     w, b(scalar)    : model parameters\n",
    "    Returns\n",
    "     f_wb (ndarray (m, )): model prediction\n",
    "     \"\"\"\n",
    "    m = x.shape[0]\n",
    "    f_wb = np.zeros(m)\n",
    "    for i in range(m):\n",
    "        f_wb[i] = w * x[i] + b\n",
    "    return f_wb"
   ]
  },
  {
   "cell_type": "markdown",
   "id": "b9d7026d-30b1-4980-a19f-d1657abd8c9d",
   "metadata": {},
   "source": [
    "Now let's call the `compute_model_output` function and plot the output.."
   ]
  },
  {
   "cell_type": "code",
   "execution_count": 10,
   "id": "59f24b8e-2ef3-4ba4-b0a8-c59a5c0db7ed",
   "metadata": {},
   "outputs": [
    {
     "data": {
      "image/png": "[encoded data removed]",
      "text/plain": [
       "<Figure size 640x480 with 1 Axes>"
      ]
     },
     "metadata": {},
     "output_type": "display_data"
    }
   ],
   "source": [
    "tmp_f_wb = compute_model_output(x_train, w, b)\n",
    "\n",
    "# Plot our model prediction\n",
    "plt.plot(x_train, tmp_f_wb, c = 'b', label = 'Actual Values')\n",
    "\n",
    "# Plot the data points\n",
    "plt.scatter(x_train, y_train, marker = 'x', c = 'r', label = 'Actual Values')\n",
    "\n",
    "# Set the title \n",
    "plt.title('Housing Prices')\n",
    "# Set the y-axis label\n",
    "plt.ylabel('Price (in 1000s of dollars)')\n",
    "# Set the x-axis label\n",
    "plt.xlabel('Size (1000 sqft)')\n",
    "plt.legend()\n",
    "plt.show()"
   ]
  },
  {
   "cell_type": "markdown",
   "id": "a60933c1-bea4-42f7-87fe-de05479c931e",
   "metadata": {},
   "source": [
    "As you can see, setting $w = 100$ and $b = 100$ does *not* result in a line that fits our data. \n",
    "\n",
    "### Challenge\n",
    "Try experimenting with different values of $w$ and $b$. What should the values be for a line that fits our data?\n",
    "\n",
    "#### Tip:\n",
    "You can use your mouse to click on the green \"Hints\" below to reveal some hints for choosing b and w."
   ]
  },
  {
   "cell_type": "markdown",
   "id": "429911ca-9a09-4380-bfc1-aa02251f621c",
   "metadata": {},
   "source": [
    "<details>\n",
    "<summary>\n",
    "    <font size='3', color='darkgreen'><b>Hints</b></font>\n",
    "</summary>\n",
    "    <p>\n",
    "    <ul>\n",
    "        <li>Try $w = 200$ and $b = 100$ </li>\n",
    "    </ul>\n",
    "    </p"
   ]
  },
  {
   "cell_type": "markdown",
   "id": "f978fc89-e3cd-403f-9980-53837230d029",
   "metadata": {},
   "source": [
    "### Prediction\r\n",
    "Now that we have a model, we can use it to make our original prediction. Let's predict the price of a house with 1200 sqft. Since the units of $x$ are in 1000's of sqft, $x$ is 1.2.\r\n"
   ]
  },
  {
   "cell_type": "code",
   "execution_count": 11,
   "id": "79e18156-cb1d-4710-8c0d-c00e3fcb9442",
   "metadata": {},
   "outputs": [
    {
     "name": "stdout",
     "output_type": "stream",
     "text": [
      "$340 thousand dollars\n"
     ]
    }
   ],
   "source": [
    "w = 200\n",
    "b = 100\n",
    "x_i = 1.2\n",
    "cost_1200sqft = w * x_i + b\n",
    "\n",
    "print(f\"${cost_1200sqft:.0f} thousand dollars\")"
   ]
  },
  {
   "cell_type": "markdown",
   "id": "ee79545f-0489-4922-a79e-affe6153b970",
   "metadata": {},
   "source": [
    "# Congratulations!\n",
    "In this lab you have learned:\n",
    " - Linear regression builds a model which establishes a relationship between features and targets\n",
    "     - In the example above, the feature was house size and the target was house price\n",
    "     - for simple linear regression, the model has two parameters $w$ and $b$ whose values are 'fit' using *training data*.\n",
    "     - once a model's parameters have been determined, the model can be used to make predictions on novel data."
   ]
  },
  {
   "cell_type": "code",
   "execution_count": null,
   "id": "b89535f9-740c-4d27-8f02-964f08a1e17c",
   "metadata": {},
   "outputs": [],
   "source": []
  }
 ],
 "metadata": {
  "kernelspec": {
   "display_name": "Python 3 (ipykernel)",
   "language": "python",
   "name": "python3"
  },
  "language_info": {
   "codemirror_mode": {
    "name": "ipython",
    "version": 3
   },
   "file_extension": ".py",
   "mimetype": "text/x-python",
   "name": "python",
   "nbconvert_exporter": "python",
   "pygments_lexer": "ipython3",
   "version": "3.12.7"
  },
  "widgets": {
   "application/vnd.jupyter.widget-state+json": {
    "state": {},
    "version_major": 2,
    "version_minor": 0
   }
  }
 },
 "nbformat": 4,
 "nbformat_minor": 5
}
